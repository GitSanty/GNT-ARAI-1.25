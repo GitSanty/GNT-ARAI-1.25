{
 "cells": [
  {
   "cell_type": "markdown",
   "metadata": {},
   "source": [
    "# Drill : Basics python syntax\n"
   ]
  },
  {
   "cell_type": "markdown",
   "metadata": {},
   "source": [
    "In some of these exercises, you will have to use methods that you have not seen yet. In this case, search on google for an example of use. Take the right habits to avoid being blocked"
   ]
  },
  {
   "cell_type": "markdown",
   "metadata": {},
   "source": [
    "Run all cells before starting the tests."
   ]
  },
  {
   "cell_type": "markdown",
   "metadata": {},
   "source": [
    "**1. Create a variable ``age`` that contains value 42**"
   ]
  },
  {
   "cell_type": "code",
   "execution_count": 1,
   "metadata": {},
   "outputs": [],
   "source": [
    "age = 42"
   ]
  },
  {
   "cell_type": "markdown",
   "metadata": {},
   "source": [
    "**2. Adds 10 to variable ``age``**"
   ]
  },
  {
   "cell_type": "code",
   "execution_count": 2,
   "metadata": {},
   "outputs": [],
   "source": [
    "age = age + 10"
   ]
  },
  {
   "cell_type": "markdown",
   "metadata": {},
   "source": [
    "**3. Create a variable ``divAge`` and assign it the value of the age divided by 7**  \n",
    "- ❗ Be careful, it must be an integer."
   ]
  },
  {
   "cell_type": "code",
   "execution_count": 39,
   "metadata": {},
   "outputs": [
    {
     "name": "stdout",
     "output_type": "stream",
     "text": [
      "7\n"
     ]
    }
   ],
   "source": [
    "divAge = int(age/7)\n",
    "print(divAge)"
   ]
  },
  {
   "cell_type": "markdown",
   "metadata": {},
   "source": [
    "**4. Create a variable ``textDiv`` that contains the character string \"42 divided by 7 is equal 7\".**  \n",
    "- You must use the ``age`` and ``divAge`` variables"
   ]
  },
  {
   "cell_type": "code",
   "execution_count": 47,
   "metadata": {},
   "outputs": [
    {
     "name": "stdout",
     "output_type": "stream",
     "text": [
      "42 divided by 7 is equal 7 \n"
     ]
    }
   ],
   "source": [
    "age = 42\n",
    "textDiv = \"{} divided by 7 is equal {} \".format(age, divAge)\n",
    "print(textDiv)"
   ]
  },
  {
   "cell_type": "markdown",
   "metadata": {},
   "source": [
    "**5. Create a variable ``restDiv`` that contains the rest of the variable ``age`` divided by 7**"
   ]
  },
  {
   "cell_type": "code",
   "execution_count": 49,
   "metadata": {},
   "outputs": [
    {
     "name": "stdout",
     "output_type": "stream",
     "text": [
      "0\n"
     ]
    }
   ],
   "source": [
    "restDiv = age%7\n",
    "print(restDiv)"
   ]
  },
  {
   "cell_type": "markdown",
   "metadata": {},
   "source": [
    "**6. Create a variable ``expDiv`` that contains the value of ``restDiv`` exponent 3**"
   ]
  },
  {
   "cell_type": "code",
   "execution_count": 57,
   "metadata": {},
   "outputs": [
    {
     "name": "stdout",
     "output_type": "stream",
     "text": [
      "0\n"
     ]
    }
   ],
   "source": [
    "expDiv = restDiv**3\n",
    "print(expDiv)"
   ]
  },
  {
   "cell_type": "markdown",
   "metadata": {},
   "source": [
    "**7. Write a program that enters an integer and then displays the value entered and its type.**"
   ]
  },
  {
   "cell_type": "code",
   "execution_count": 63,
   "metadata": {},
   "outputs": [
    {
     "name": "stdout",
     "output_type": "stream",
     "text": [
      "4 <class 'int'>\n"
     ]
    }
   ],
   "source": [
    "def getNumber(NumberInt):\n",
    "    print(NumberInt , type(NumberInt))\n",
    "    \n",
    "getNumber(4)"
   ]
  },
  {
   "cell_type": "markdown",
   "metadata": {},
   "source": [
    "**8. Use variables to represent the price of materials.**  \n",
    "- 2 bottles of milk at €0.45 each\n",
    "- 3 bottles of raw cider at €3.85 each\n",
    "- 1 bag of flour at 0.9 €\n",
    "- 1 packet of butter at €0.77\n",
    "- 1 jar of nutella at €1.87  \n",
    "\n",
    "**Calculate the sum of all items and store it in a ``orderPrice`` variable**"
   ]
  },
  {
   "cell_type": "code",
   "execution_count": 65,
   "metadata": {},
   "outputs": [
    {
     "name": "stdout",
     "output_type": "stream",
     "text": [
      "15.990000000000002\n"
     ]
    }
   ],
   "source": [
    "milk = 2*.45\n",
    "raw = 3*3.85\n",
    "flour = 1*.9\n",
    "butter = 1*.77\n",
    "nutella = 1*1.87\n",
    "orderPrice = milk+raw+flour+butter+nutella\n",
    "print(orderPrice)"
   ]
  },
  {
   "cell_type": "markdown",
   "metadata": {},
   "source": [
    "**Create a variable ``allowanceMoney`` which has a value of 20 and then create an algorithm that calculates the available money by subtracting the price of the order.**\n",
    "\n",
    "If there is enough money, record the following sentence in the variable ``message`` and subtract the expense from ``allowanceMoney`` : \n",
    "- message = \"You have spent\" + ``orderPrice`` + \"you have left\" + ``allowanceMoney`` \n",
    "\n",
    "If there is not enough money, record the following sentence in the ``message`` variable: \n",
    "- message= \"Sorry you're missing *amountMissing* euros\" \n",
    "\n",
    "If there is 0 left, record the following sentence in the ``message`` variable: \n",
    "- message = \"You are broke!\"\n"
   ]
  },
  {
   "cell_type": "code",
   "execution_count": 123,
   "metadata": {},
   "outputs": [
    {
     "name": "stdout",
     "output_type": "stream",
     "text": [
      "('You have spent', 15.990000000000002, 'you have left', 4.009999999999998)\n"
     ]
    }
   ],
   "source": [
    "message = \"\"\n",
    "# Declare and assign the variable ``allowanceMoney``\n",
    "allowanceMoney = 20   \n",
    "if allowanceMoney > orderPrice:\n",
    "    allowanceMoney = allowanceMoney - orderPrice\n",
    "    message = \"You have spent\",  orderPrice, \"you have left\", allowanceMoney\n",
    "    print(message)\n",
    "elif allowanceMoney < orderPrice:\n",
    "    message = \"Sorry you're missing amountMissing euros\"\n",
    "    print(message)\n",
    "elif allowanceMoney == 0:\n",
    "    message = \"You are broke!\"\n",
    "    print(message)\n",
    "\n",
    "# Then \n",
    " "
   ]
  },
  {
   "cell_type": "markdown",
   "metadata": {},
   "source": [
    "**9. Write a program that asks you to enter 2 values and displays the smallest of the 2 values**"
   ]
  },
  {
   "cell_type": "code",
   "execution_count": 125,
   "metadata": {},
   "outputs": [
    {
     "name": "stdout",
     "output_type": "stream",
     "text": [
      "Enter 1st value:5\n",
      "Enter 2dn value:5\n"
     ]
    }
   ],
   "source": [
    "y = input('Enter 1st value:')\n",
    "x = input('Enter 2dn value:')\n",
    "if x < y:\n",
    "    print(x)\n",
    "if y < x:\n",
    "    print(y)"
   ]
  },
  {
   "cell_type": "markdown",
   "metadata": {},
   "source": [
    "**10. Write a script that asks you to enter 2 strings and displays the largest of the 2 strings (the one with the most characters).**"
   ]
  },
  {
   "cell_type": "code",
   "execution_count": 145,
   "metadata": {},
   "outputs": [
    {
     "name": "stdout",
     "output_type": "stream",
     "text": [
      "Enter 1st string:az\n",
      "Enter 2dn string:azert\n",
      "azert\n"
     ]
    }
   ],
   "source": [
    "string1 = input('Enter 1st string:')\n",
    "string2 = input('Enter 2dn string:')\n",
    "totalString1 = 0\n",
    "totalString2 = 0\n",
    "for i in string1:\n",
    "    totalString1 = totalString1 + 1\n",
    "for i in string2:\n",
    "    totalString2 = totalString2 + 1\n",
    "if totalString2 > totalString1:\n",
    "    print(string2)\n",
    "else:\n",
    "    print(string1)\n",
    "    #print(totalString1, totalString2)\n",
    " "
   ]
  },
  {
   "cell_type": "markdown",
   "metadata": {},
   "source": [
    "**11. Write a script that converts euros into dollars.**\n",
    "- The program will start by asking the user to indicate with a character 'E' or '$' depending on the currency of the amount they are entering.\n",
    "- Then the program will ask you to enter the amount and display the conversion."
   ]
  },
  {
   "cell_type": "code",
   "execution_count": 178,
   "metadata": {},
   "outputs": [
    {
     "name": "stdout",
     "output_type": "stream",
     "text": [
      "Converting euros into dollars\n",
      "Convert to \"E\" or \"$\"$\n",
      "Enter Euros:0\n",
      "Total Dollars 0.0\n"
     ]
    }
   ],
   "source": [
    "TotalConvert = 0\n",
    "print('Converting euros into dollars')\n",
    "Coin = input('Convert to \"E\" or \"$\"')\n",
    "if Coin == \"$\":\n",
    "    Euros = input('Enter Euros:')\n",
    "    TotalConvert = float(Euros)*1.18\n",
    "    print('Total Dollars', TotalConvert)\n",
    "if Coin == \"E\":\n",
    "    Dollar = input('Enter Dollars:')\n",
    "    TotalConvert = float(Dollar)*.85\n",
    "    print('Total Euros', TotalConvert)"
   ]
  },
  {
   "cell_type": "markdown",
   "metadata": {},
   "source": [
    "**12. Check if the variable ``name`` is in the ``studentsTuring`` list. (Without making a loop)** \n",
    "* If the name is in the list, display \"You are at the turing's\".\n",
    "* Otherwise display: \"You are not part of the turing's\""
   ]
  },
  {
   "cell_type": "code",
   "execution_count": 185,
   "metadata": {},
   "outputs": [
    {
     "name": "stdout",
     "output_type": "stream",
     "text": [
      "You are not part of the turing's\n"
     ]
    }
   ],
   "source": [
    "studentsTuring = [\"Redouane\", \"Justine\", \"Ruben\", \"Edouard\"]\n",
    "name = \"Julie\"\n",
    "if name in studentsTuring:\n",
    "    print(\"You are at the turing's\")\n",
    "else:\n",
    "    print(\"You are not part of the turing's\")\n"
   ]
  },
  {
   "cell_type": "code",
   "execution_count": 186,
   "metadata": {},
   "outputs": [],
   "source": [
    "# Add your code here"
   ]
  },
  {
   "cell_type": "markdown",
   "metadata": {},
   "source": [
    "**13. Calculate the volume of a sphere using the formula *(4π/3) x R³*. The radius is 10.**  \n",
    "- Save the result in a \"volume\" variable.\n"
   ]
  },
  {
   "cell_type": "code",
   "execution_count": 187,
   "metadata": {},
   "outputs": [
    {
     "name": "stdout",
     "output_type": "stream",
     "text": [
      "4188.790204786391\n"
     ]
    }
   ],
   "source": [
    "import math as mat\n",
    "volume = (4*mat.pi/3) * 10**3\n",
    "print(volume)"
   ]
  },
  {
   "cell_type": "markdown",
   "metadata": {
    "collapsed": true
   },
   "source": [
    "## [Ok, you can move here](../6.loop-and-iteration/loops-and-iterations.ipynb)"
   ]
  }
 ],
 "metadata": {
  "kernelspec": {
   "display_name": "Python 3",
   "language": "python",
   "name": "python3"
  },
  "language_info": {
   "codemirror_mode": {
    "name": "ipython",
    "version": 3
   },
   "file_extension": ".py",
   "mimetype": "text/x-python",
   "name": "python",
   "nbconvert_exporter": "python",
   "pygments_lexer": "ipython3",
   "version": "3.7.4"
  }
 },
 "nbformat": 4,
 "nbformat_minor": 2
}
